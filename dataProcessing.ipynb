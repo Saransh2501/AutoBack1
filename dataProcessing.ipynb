{
 "cells": [
  {
   "cell_type": "code",
   "execution_count": 1,
   "id": "1bcb0fcc",
   "metadata": {},
   "outputs": [],
   "source": [
    "import cv2 as cv\n",
    "import os"
   ]
  },
  {
   "cell_type": "code",
   "execution_count": 2,
   "id": "5a2b1d6d",
   "metadata": {},
   "outputs": [],
   "source": [
    "Datadirectory = \"G:\\Emotions\" \n",
    "Classes = ['0','1','2','3','4','5','6','7']\n",
    "img_size = 48"
   ]
  },
  {
   "cell_type": "code",
   "execution_count": 3,
   "id": "067659e5",
   "metadata": {},
   "outputs": [],
   "source": [
    "save_path_directory = \"G:\\Dataset\""
   ]
  },
  {
   "cell_type": "code",
   "execution_count": null,
   "id": "d4432599",
   "metadata": {},
   "outputs": [],
   "source": [
    "faces = cv.CascadeClassifier(r'haarcascade_frontalface_default.xml')"
   ]
  },
  {
   "cell_type": "code",
   "execution_count": 8,
   "id": "137b52f8",
   "metadata": {},
   "outputs": [],
   "source": [
    "def create_trainning_Dataset():\n",
    "    for category in Classes:\n",
    "        path = os.path.join(Datadirectory, category)\n",
    "        save_path = os.path.join(save_path_directory, category)\n",
    "        for img in os.listdir(path):\n",
    "            try:\n",
    "                img_array = cv.imread(os.path.join(path,img))\n",
    "                \n",
    "                blur_img_array = cv.GaussianBlur(img_array, (9,9), 0)\n",
    "#                 grey_img_array = cv.cvtColor(blur_img_array, cv.COLOR_BGR2GRAY)\n",
    "                resized_img_array = cv.resize(blur_img_array, (img_size,img_size),interpolation =cv.INTER_AREA)\n",
    "                cv.imwrite(os.path.join(save_path,img), resized_img_array)\n",
    "            except Exception as e:\n",
    "                print(e)\n",
    "                break"
   ]
  },
  {
   "cell_type": "code",
   "execution_count": 10,
   "id": "f4819f64",
   "metadata": {},
   "outputs": [],
   "source": [
    "create_trainning_Dataset()"
   ]
  },
  {
   "cell_type": "code",
   "execution_count": null,
   "id": "a5b8d985",
   "metadata": {},
   "outputs": [],
   "source": []
  }
 ],
 "metadata": {
  "kernelspec": {
   "display_name": "Python 3 (ipykernel)",
   "language": "python",
   "name": "python3"
  },
  "language_info": {
   "codemirror_mode": {
    "name": "ipython",
    "version": 3
   },
   "file_extension": ".py",
   "mimetype": "text/x-python",
   "name": "python",
   "nbconvert_exporter": "python",
   "pygments_lexer": "ipython3",
   "version": "3.9.7"
  }
 },
 "nbformat": 4,
 "nbformat_minor": 5
}
